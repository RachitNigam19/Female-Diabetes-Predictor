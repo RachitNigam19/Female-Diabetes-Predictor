{
 "cells": [
  {
   "cell_type": "code",
   "execution_count": 2,
   "id": "4c97f638-57c8-4f9c-a296-7421476b8ea1",
   "metadata": {},
   "outputs": [
    {
     "name": "stdout",
     "output_type": "stream",
     "text": [
      "Training data Accuracy is: 0.7915309446254072\n",
      "Testing data Accuracy is: 0.7207792207792207\n",
      "Training data Accuracy is: 0.7915309446254072\n",
      "Testing data Accuracy is: 0.7207792207792207\n",
      "Diabetes Predictive Model For Females\n"
     ]
    },
    {
     "name": "stdin",
     "output_type": "stream",
     "text": [
      "Enter the no. of Pregnancies:  5\n",
      "Glucose Level (e.g., 80):  23\n",
      "Blood Pressure (e.g., 70):  5\n",
      "Skin Thickness (e.g., 29):  66\n",
      "Insulin Level:  5\n",
      "BMI (e.g., 33.6):  23\n",
      "Diabetes Pedigree Function (e.g., 0.134):  6\n",
      "Age of the Patient:  65\n"
     ]
    },
    {
     "name": "stdout",
     "output_type": "stream",
     "text": [
      "The person is likely Non-Diabetic.\n"
     ]
    },
    {
     "name": "stderr",
     "output_type": "stream",
     "text": [
      "C:\\Users\\Rachit Nigam\\anaconda3\\Lib\\site-packages\\sklearn\\base.py:493: UserWarning: X does not have valid feature names, but StandardScaler was fitted with feature names\n",
      "  warnings.warn(\n"
     ]
    }
   ],
   "source": [
    "### Diabetes Prediction Model\n",
    "\n",
    "# Importing all Dependencies\n",
    "import numpy as np \n",
    "import pandas as pd \n",
    "from sklearn.preprocessing import StandardScaler\n",
    "from sklearn.model_selection import train_test_split\n",
    "from sklearn import svm\n",
    "from sklearn.metrics import accuracy_score\n",
    " \n",
    "# Data Collection and Analysis\n",
    "# PIMA Diabatetes dataset\n",
    "df = pd.read_csv('diabetes.csv')\n",
    "\n",
    "# printing the first 10 rows of the dataset \n",
    "df.head(10)\n",
    "\n",
    "# printing the last 10 rows of the dataset \n",
    "df.tail(10)\n",
    "\n",
    "# shape of the data\n",
    "df.shape\n",
    "\n",
    "# desciption of data\n",
    "df.describe()\n",
    "\n",
    "df['Outcome'].value_counts()\n",
    "\n",
    "#0 ---> Non Diabetic\n",
    "#1 ---> Diabetic\n",
    "\n",
    "df.groupby('Outcome').mean()\n",
    "\n",
    "# Seperating the Data and labels\n",
    "X = df.drop(columns = 'Outcome', axis = 1)\n",
    "Y = df['Outcome']\n",
    "\n",
    "# Data Standardization\n",
    "scaler = StandardScaler()\n",
    "stdf = scaler.fit_transform(X)\n",
    "\n",
    "X = stdf\n",
    "Y = df['Outcome']\n",
    "\n",
    "# Spliting data in training and testing\n",
    "X_train, X_test, Y_train, Y_test = train_test_split(X,Y, test_size = 0.2, stratify=Y, random_state = 42)\n",
    "\n",
    "# model Training\n",
    "classifier = svm.SVC(kernel = 'linear')\n",
    "\n",
    "# training the support vector machine classifier\n",
    "classifier.fit(X_train,Y_train)\n",
    "\n",
    "# Model Evaluation\n",
    "y_pred = classifier.predict(X_train)\n",
    "y_tes = classifier.predict(X_test)\n",
    "\n",
    "accuracy = accuracy_score(Y_train, y_pred)\n",
    "accuracy1 = accuracy_score(Y_test, y_tes)\n",
    "\n",
    "print(\"Training data Accuracy is:\", accuracy)\n",
    "print(\"Testing data Accuracy is:\", accuracy1)\n",
    "\n",
    "print(\"Training data Accuracy is:\", accuracy)\n",
    "print(\"Testing data Accuracy is:\", accuracy1)\n",
    "\n",
    "# Making a Predictive Model\n",
    "print(\"Diabetes Predictive Model For Females\")\n",
    "input1 = float(input(\"Enter the no. of Pregnancies: \"))\n",
    "input2 = float(input(\"Glucose Level (e.g., 80): \"))\n",
    "input3 = float(input(\"Blood Pressure (e.g., 70): \"))  # Added Blood Pressure input\n",
    "input4 = float(input(\"Skin Thickness (e.g., 29): \"))\n",
    "input5 = float(input(\"Insulin Level: \"))\n",
    "input6 = float(input(\"BMI (e.g., 33.6): \"))\n",
    "input7 = float(input(\"Diabetes Pedigree Function (e.g., 0.134): \"))\n",
    "input8 = float(input(\"Age of the Patient: \"))\n",
    "\n",
    "# Creating the input array with 8 features\n",
    "user_input = np.array([[input1, input2, input3, input4, input5, input6, input7, input8]])\n",
    "\n",
    "# Reshaping and standardizing input data\n",
    "input_data_reshaped = user_input.reshape(1, -1)\n",
    "standardize_input = scaler.transform(input_data_reshaped)\n",
    "\n",
    "# Making a prediction\n",
    "prediction = classifier.predict(standardize_input)\n",
    "\n",
    "if prediction[0] == 1:\n",
    "    print(\"The person is likely Diabetic.\")\n",
    "else:\n",
    "    print(\"The person is likely Non-Diabetic.\")\n"
   ]
  },
  {
   "cell_type": "markdown",
   "id": "a62a296b-c477-464b-9541-876b83f937d8",
   "metadata": {},
   "source": [
    "### Saving the Trained Model !!!"
   ]
  },
  {
   "cell_type": "code",
   "execution_count": 4,
   "id": "a00df02f-7b25-4ebf-bd87-6fa3e4dc9c1f",
   "metadata": {},
   "outputs": [],
   "source": [
    "import pickle"
   ]
  },
  {
   "cell_type": "code",
   "execution_count": 5,
   "id": "1e3f1719-fcc7-4991-938c-35a10b224c12",
   "metadata": {},
   "outputs": [],
   "source": [
    "filename = 'trained_model.sav'\n",
    "pickle.dump(classifier, open(filename, 'wb'))"
   ]
  },
  {
   "cell_type": "code",
   "execution_count": 6,
   "id": "f8af7791-3c6a-4179-a7e6-225b59712e90",
   "metadata": {},
   "outputs": [],
   "source": [
    "# Loading the Saving Model \n",
    "loaded_model = pickle.load(open('trained_model.sav', 'rb'))"
   ]
  },
  {
   "cell_type": "code",
   "execution_count": 17,
   "id": "c0f2891c-ff96-406f-aa8a-457b0c0ac9eb",
   "metadata": {},
   "outputs": [
    {
     "name": "stdin",
     "output_type": "stream",
     "text": [
      "Enter the no. of Pregnancies:  64\n",
      "Glucose Level (e.g., 80):  64\n",
      "Blood Pressure (e.g., 70):  65\n",
      "Skin Thickness (e.g., 29):  5\n",
      "Insulin Level:  65\n",
      "BMI (e.g., 33.6):  65\n",
      "Diabetes Pedigree Function (e.g., 0.134):  64\n",
      "Age of the Patient:  65\n"
     ]
    },
    {
     "name": "stdout",
     "output_type": "stream",
     "text": [
      "The person is likely Diabetic.\n"
     ]
    },
    {
     "name": "stderr",
     "output_type": "stream",
     "text": [
      "C:\\Users\\Rachit Nigam\\anaconda3\\Lib\\site-packages\\sklearn\\base.py:493: UserWarning: X does not have valid feature names, but StandardScaler was fitted with feature names\n",
      "  warnings.warn(\n"
     ]
    }
   ],
   "source": [
    "input1 = float(input(\"Enter the no. of Pregnancies: \"))\n",
    "input2 = float(input(\"Glucose Level (e.g., 80): \"))\n",
    "input3 = float(input(\"Blood Pressure (e.g., 70): \"))  # Added Blood Pressure input\n",
    "input4 = float(input(\"Skin Thickness (e.g., 29): \"))\n",
    "input5 = float(input(\"Insulin Level: \"))\n",
    "input6 = float(input(\"BMI (e.g., 33.6): \"))\n",
    "input7 = float(input(\"Diabetes Pedigree Function (e.g., 0.134): \"))\n",
    "input8 = float(input(\"Age of the Patient: \"))\n",
    "\n",
    "# Creating the input array with 8 features\n",
    "user_input = np.array([[input1, input2, input3, input4, input5, input6, input7, input8]])\n",
    "\n",
    "# Reshaping and standardizing input data\n",
    "input_data_reshaped = user_input.reshape(1, -1)\n",
    "standardize_input = scaler.transform(input_data_reshaped)\n",
    "\n",
    "# Making a prediction\n",
    "prediction = loaded_model.predict(standardize_input)\n",
    "\n",
    "if prediction[0] == 1:\n",
    "    print(\"The person is likely Diabetic.\")\n",
    "else:\n",
    "    print(\"The person is likely Non-Diabetic.\")"
   ]
  },
  {
   "cell_type": "code",
   "execution_count": null,
   "id": "f9783d2c-70a4-4d54-a159-e246dc93aadb",
   "metadata": {},
   "outputs": [],
   "source": []
  },
  {
   "cell_type": "code",
   "execution_count": null,
   "id": "d92ccca5-b1eb-4118-9cb7-cdb598bf792e",
   "metadata": {},
   "outputs": [],
   "source": []
  },
  {
   "cell_type": "code",
   "execution_count": null,
   "id": "276ef5bf-ce01-4b01-9b40-1feb0aa05201",
   "metadata": {},
   "outputs": [],
   "source": []
  }
 ],
 "metadata": {
  "kernelspec": {
   "display_name": "Python 3 (ipykernel)",
   "language": "python",
   "name": "python3"
  },
  "language_info": {
   "codemirror_mode": {
    "name": "ipython",
    "version": 3
   },
   "file_extension": ".py",
   "mimetype": "text/x-python",
   "name": "python",
   "nbconvert_exporter": "python",
   "pygments_lexer": "ipython3",
   "version": "3.12.3"
  }
 },
 "nbformat": 4,
 "nbformat_minor": 5
}
