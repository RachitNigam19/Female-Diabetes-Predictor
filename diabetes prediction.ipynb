{
 "cells": [
  {
   "cell_type": "code",
   "execution_count": 2,
   "id": "e9e52891-6027-418b-91dc-ba8fc3f8f3b4",
   "metadata": {
    "scrolled": true
   },
   "outputs": [
    {
     "name": "stdout",
     "output_type": "stream",
     "text": [
      "Training data Accuracy is: 0.7915309446254072\n",
      "Testing data Accuracy is: 0.7207792207792207\n",
      "Training data Accuracy is: 0.7915309446254072\n",
      "Testing data Accuracy is: 0.7207792207792207\n",
      "Diabetes Predictive Model For Females\n"
     ]
    },
    {
     "name": "stdin",
     "output_type": "stream",
     "text": [
      "Enter the no. of Pregnancies:  21\n",
      "Glucose Level (e.g., 80):  4\n",
      "Blood Pressure (e.g., 70):  46\n",
      "Skin Thickness (e.g., 29):  31\n",
      "Insulin Level:  31\n",
      "BMI (e.g., 33.6):  13\n",
      "Diabetes Pedigree Function (e.g., 0.134):  3\n",
      "Age of the Patient:  31\n"
     ]
    },
    {
     "name": "stderr",
     "output_type": "stream",
     "text": [
      "C:\\Users\\Rachit Nigam\\anaconda3\\Lib\\site-packages\\sklearn\\base.py:493: UserWarning: X does not have valid feature names, but StandardScaler was fitted with feature names\n",
      "  warnings.warn(\n"
     ]
    },
    {
     "name": "stdout",
     "output_type": "stream",
     "text": [
      "The person is likely Non-Diabetic.\n"
     ]
    },
    {
     "name": "stdin",
     "output_type": "stream",
     "text": [
      "Enter the no. of Pregnancies:  23\n",
      "Glucose Level (e.g., 80):  6\n",
      "Blood Pressure (e.g., 70):  56\n",
      "Skin Thickness (e.g., 29):  32\n",
      "Insulin Level:  23\n",
      "BMI (e.g., 33.6):  3\n",
      "Diabetes Pedigree Function (e.g., 0.134):  32\n",
      "Age of the Patient:  3143\n"
     ]
    },
    {
     "name": "stdout",
     "output_type": "stream",
     "text": [
      "The person is likely Diabetic.\n"
     ]
    },
    {
     "name": "stderr",
     "output_type": "stream",
     "text": [
      "C:\\Users\\Rachit Nigam\\anaconda3\\Lib\\site-packages\\sklearn\\base.py:493: UserWarning: X does not have valid feature names, but StandardScaler was fitted with feature names\n",
      "  warnings.warn(\n"
     ]
    }
   ],
   "source": [
    "### Diabetes Prediction Model\n",
    "\n",
    "# Importing all Dependencies\n",
    "import numpy as np \n",
    "import pandas as pd \n",
    "from sklearn.preprocessing import StandardScaler\n",
    "from sklearn.model_selection import train_test_split\n",
    "from sklearn import svm\n",
    "from sklearn.metrics import accuracy_score\n",
    " \n",
    "# Data Collection and Analysis\n",
    "# PIMA Diabatetes dataset\n",
    "df = pd.read_csv('diabetes.csv')\n",
    "\n",
    "# printing the first 10 rows of the dataset \n",
    "df.head(10)\n",
    "\n",
    "# printing the last 10 rows of the dataset \n",
    "df.tail(10)\n",
    "\n",
    "# shape of the data\n",
    "df.shape\n",
    "\n",
    "# desciption of data\n",
    "df.describe()\n",
    "\n",
    "df['Outcome'].value_counts()\n",
    "\n",
    "#0 ---> Non Diabetic\n",
    "#1 ---> Diabetic\n",
    "\n",
    "df.groupby('Outcome').mean()\n",
    "\n",
    "# Seperating the Data and labels\n",
    "X = df.drop(columns = 'Outcome', axis = 1)\n",
    "Y = df['Outcome']\n",
    "\n",
    "# Data Standardization\n",
    "scaler = StandardScaler()\n",
    "stdf = scaler.fit_transform(X)\n",
    "\n",
    "X = stdf\n",
    "Y = df['Outcome']\n",
    "\n",
    "# Spliting data in training and testing\n",
    "X_train, X_test, Y_train, Y_test = train_test_split(X,Y, test_size = 0.2, stratify=Y, random_state = 42)\n",
    "\n",
    "# model Training\n",
    "classifier = svm.SVC(kernel = 'linear')\n",
    "\n",
    "# training the support vector machine classifier\n",
    "classifier.fit(X_train,Y_train)\n",
    "\n",
    "# Model Evaluation\n",
    "y_pred = classifier.predict(X_train)\n",
    "y_tes = classifier.predict(X_test)\n",
    "\n",
    "accuracy = accuracy_score(Y_train, y_pred)\n",
    "accuracy1 = accuracy_score(Y_test, y_tes)\n",
    "\n",
    "print(\"Training data Accuracy is:\", accuracy)\n",
    "print(\"Testing data Accuracy is:\", accuracy1)\n",
    "\n",
    "print(\"Training data Accuracy is:\", accuracy)\n",
    "print(\"Testing data Accuracy is:\", accuracy1)\n",
    "\n",
    "# Making a Predictive Model\n",
    "print(\"Diabetes Predictive Model For Females\")\n",
    "input1 = int(input(\"Enter the no. of Pregnancies: \"))\n",
    "input2 = int(input(\"Glucose Level (e.g., 80): \"))\n",
    "input3 = int(input(\"Blood Pressure (e.g., 70): \"))  # Added Blood Pressure input\n",
    "input4 = int(input(\"Skin Thickness (e.g., 29): \"))\n",
    "input5 = int(input(\"Insulin Level: \"))\n",
    "input6 = float(input(\"BMI (e.g., 33.6): \"))\n",
    "input7 = float(input(\"Diabetes Pedigree Function (e.g., 0.134): \"))\n",
    "input8 = int(input(\"Age of the Patient: \"))\n",
    "\n",
    "# Creating the input array with 8 features\n",
    "user_input = np.array([[input1, input2, input3, input4, input5, input6, input7, input8]])\n",
    "\n",
    "# Reshaping and standardizing input data\n",
    "input_data_reshaped = user_input.reshape(1, -1)\n",
    "standardize_input = scaler.transform(input_data_reshaped)\n",
    "\n",
    "# Making a prediction\n",
    "prediction = classifier.predict(standardize_input)\n",
    "\n",
    "if prediction[0] == 1:\n",
    "    print(\"The person is likely Diabetic.\")\n",
    "else:\n",
    "    print(\"The person is likely Non-Diabetic.\")\n",
    "\n",
    "\n",
    "### Saving the Trained Model !!!\n",
    "\n",
    "import pickle\n",
    "\n",
    "filename = 'trained_model.sav'\n",
    "pickle.dump(classifier, open(filename, 'wb'))\n",
    "\n",
    "# Loading the Saving Model \n",
    "loaded_model = pickle.load(open('trained_model.sav', 'rb'))\n",
    "\n",
    "input1 = int(input(\"Enter the no. of Pregnancies: \"))\n",
    "input2 = int(input(\"Glucose Level (e.g., 80): \"))\n",
    "input3 = int(input(\"Blood Pressure (e.g., 70): \"))  # Added Blood Pressure input\n",
    "input4 = int(input(\"Skin Thickness (e.g., 29): \"))\n",
    "input5 = int(input(\"Insulin Level: \"))\n",
    "input6 = float(input(\"BMI (e.g., 33.6): \"))\n",
    "input7 = float(input(\"Diabetes Pedigree Function (e.g., 0.134): \"))\n",
    "input8 = int(input(\"Age of the Patient: \"))\n",
    "\n",
    "# Creating the input array with 8 features\n",
    "user_input = np.array([[input1, input2, input3, input4, input5, input6, input7, input8]])\n",
    "\n",
    "# Reshaping and standardizing input data\n",
    "input_data_reshaped = user_input.reshape(1, -1)\n",
    "standardize_input = scaler.transform(input_data_reshaped)\n",
    "\n",
    "# Making a prediction\n",
    "prediction = loaded_model.predict(standardize_input)\n",
    "\n",
    "if prediction[0] == 1:\n",
    "    print(\"The person is likely Diabetic.\")\n",
    "else:\n",
    "    print(\"The person is likely Non-Diabetic.\")"
   ]
  },
  {
   "cell_type": "code",
   "execution_count": null,
   "id": "1fbf53f0-cc75-41a4-9b96-f686d4c77042",
   "metadata": {},
   "outputs": [],
   "source": []
  }
 ],
 "metadata": {
  "kernelspec": {
   "display_name": "Python 3 (ipykernel)",
   "language": "python",
   "name": "python3"
  },
  "language_info": {
   "codemirror_mode": {
    "name": "ipython",
    "version": 3
   },
   "file_extension": ".py",
   "mimetype": "text/x-python",
   "name": "python",
   "nbconvert_exporter": "python",
   "pygments_lexer": "ipython3",
   "version": "3.12.3"
  }
 },
 "nbformat": 4,
 "nbformat_minor": 5
}
